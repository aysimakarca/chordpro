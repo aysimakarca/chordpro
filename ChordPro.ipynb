{
 "cells": [
  {
   "cell_type": "code",
   "execution_count": 1,
   "id": "f737f25e",
   "metadata": {},
   "outputs": [],
   "source": [
    "import re\n",
    "import os"
   ]
  },
  {
   "cell_type": "code",
   "execution_count": 2,
   "id": "1ef93025",
   "metadata": {},
   "outputs": [],
   "source": [
    "def readChordProFile(chordProFile):\n",
    "    with open(chordProFile, 'r') as file:\n",
    "        print(chordProFile)\n",
    "        content = file.read()\n",
    "        return content"
   ]
  },
  {
   "cell_type": "code",
   "execution_count": null,
   "id": "ca1847bd",
   "metadata": {},
   "outputs": [],
   "source": [
    "uniqueChordNames = [\"A\",\"B\", \"C\", \"D\", \"E\", \"F\", \"G\"]    "
   ]
  },
  {
   "cell_type": "code",
   "execution_count": null,
   "id": "3b0c0e44",
   "metadata": {},
   "outputs": [],
   "source": [
    "def cleanChords(chords):\n",
    "    finalChords = []\n",
    "    for chord in chords:\n",
    "        chord = chord.replace(\"H\", \"B\")\n",
    "        chord = chord.replace(\"b\", \"-\")\n",
    "        chord = chord.replace(\"min\", \"m\")\n",
    "        chord = chord.replace(\"maj\", \"\")\n",
    "        chord = chord.replace(\"sus\", \"\")\n",
    "        chord = chord.replace(\"dim\", \"\")\n",
    "        if len(chord) > 3:\n",
    "            print('Curring long chord ', chord)\n",
    "            chord = chord[0:3]\n",
    "        chord = chord.replace(\"7\", \"\")        \n",
    "        chord = chord.replace(\"(\", \"\")\n",
    "        chord = chord.replace(\"+\", \"\")\n",
    "        chord = chord.replace(\"?\", \"\")\n",
    "        chord = chord.split(\"/\")[0]\n",
    "        chord = chord.split(\"+\")[0]\n",
    "        chord = re.sub(r'\\d+', '', chord)\n",
    "        \n",
    "        if chord[0:1] in uniqueChordNames:\n",
    "            finalChords.append(chord)\n",
    "    return finalChords"
   ]
  },
  {
   "cell_type": "code",
   "execution_count": 3,
   "id": "8b471b16",
   "metadata": {},
   "outputs": [],
   "source": [
    "class Song:\n",
    "    def __init__(self, chordProFile):\n",
    "        self.chordProFile = chordProFile\n",
    "        self.content = readChordProFile(chordProFile)\n",
    "        self.chorus = self.getChorus()\n",
    "        self.chords = self.getChords()\n",
    "        self.title = self.getTitle()\n",
    "        self.key = self.getKey()\n",
    "        \n",
    "    def getChords(self):\n",
    "        chords = []\n",
    "        \n",
    "        for line in self.content.split(\"\\n\"): \n",
    "            chord_pattern = r'\\[([^\\]]+)\\]'\n",
    "            lineChords = []\n",
    "            if \"chorus}\" in line.lower():\n",
    "                lineChords = self.getChorus()\n",
    "            elif \"[\" in line:\n",
    "                lineChords = re.findall(chord_pattern, line)   \n",
    "            chords.extend(cleanChords(lineChords))\n",
    "        print('Chord of the song: ' + self.chordProFile, chords)\n",
    "        return chords\n",
    "        \n",
    "    def getChorus(self):\n",
    "        pattern = r\"{soc}(.*?){eoc}\"\n",
    "        match = re.search(pattern, self.content, re.DOTALL)\n",
    "        chords = []\n",
    "        if match:\n",
    "            chorus = match.group(1).strip()\n",
    "            chord_pattern = r\"\\[([^\\]]*)\\]\"\n",
    "            chords = re.findall(chord_pattern, chorus)\n",
    "            print(\"Chords in chorus:\", chords)\n",
    "        else:\n",
    "            print(\"Chorus section not found.\")\n",
    "        return chords\n",
    "    \n",
    "    def getTitle(self):\n",
    "        pattern = r\"\\{title:\\s*(.*?)\\s*\\}\"\n",
    "        match = re.search(pattern, self.content)\n",
    "        title = ''\n",
    "        if match:\n",
    "            title = match.group(1)\n",
    "            print(\"The title is:\", title)\n",
    "        else:\n",
    "            print(\"Title information not found, using the file name.\")\n",
    "            title = os.path.splitext(os.path.basename(self.chordProFile))[0]\n",
    "            print(\"The file name is being used as title:\", title)\n",
    "        return title\n",
    "    \n",
    "    def getKey(self):\n",
    "        pattern = r\"{key:\\s*([A-G][#b]?)\\s*}\"\n",
    "        match = re.search(pattern, self.content)\n",
    "        key = ''\n",
    "        if match:\n",
    "            key = match.group(1)\n",
    "            print(\"The key is:\", key)\n",
    "        else:\n",
    "            print(\"Key information not found.\")\n",
    "        return key"
   ]
  },
  {
   "cell_type": "code",
   "execution_count": 4,
   "id": "65fe47b8",
   "metadata": {},
   "outputs": [],
   "source": [
    "def createChordDictFromChordProFiles(dataFolderPath):\n",
    "    fileNames = os.listdir(dataFolderPath)\n",
    "    chordsDict = {}\n",
    "    longestChordLength = 0\n",
    "    for file in fileNames:\n",
    "        print(file)\n",
    "        if '.DS_Store' in file:\n",
    "            continue\n",
    "        chordproFile = dataFolderPath + file\n",
    "        song = Song(chordproFile)\n",
    "        chordsDict[song.title] = song.chords\n",
    "    return chordsDict"
   ]
  },
  {
   "cell_type": "code",
   "execution_count": null,
   "id": "ba9431b7",
   "metadata": {},
   "outputs": [],
   "source": [
    "pathOfChordTxtFiles = './data/chordpro/'\n",
    "\n",
    "songDict = createChordDictFromChordProFiles(pathOfChordTxtFiles)\n",
    "print(songDict)"
   ]
  },
  {
   "cell_type": "code",
   "execution_count": null,
   "id": "22b91894",
   "metadata": {},
   "outputs": [],
   "source": []
  }
 ],
 "metadata": {
  "kernelspec": {
   "display_name": "Python 3 (ipykernel)",
   "language": "python",
   "name": "python3"
  },
  "language_info": {
   "codemirror_mode": {
    "name": "ipython",
    "version": 3
   },
   "file_extension": ".py",
   "mimetype": "text/x-python",
   "name": "python",
   "nbconvert_exporter": "python",
   "pygments_lexer": "ipython3",
   "version": "3.9.16"
  }
 },
 "nbformat": 4,
 "nbformat_minor": 5
}
